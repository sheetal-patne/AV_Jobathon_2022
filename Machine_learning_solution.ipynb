{
 "cells": [
  {
   "cell_type": "code",
   "execution_count": 1,
   "metadata": {},
   "outputs": [],
   "source": [
    "# Import all required modules and function\n",
    "import numpy as np\n",
    "import pandas as pd \n",
    "import matplotlib.pyplot as plt\n",
    "import seaborn as sns\n",
    "from sklearn.model_selection import train_test_split\n",
    "from sklearn.linear_model import LinearRegression \n",
    "\n",
    "\n",
    "%matplotlib inline\n"
   ]
  },
  {
   "cell_type": "code",
   "execution_count": 2,
   "metadata": {},
   "outputs": [
    {
     "data": {
      "text/html": [
       "<div>\n",
       "<style scoped>\n",
       "    .dataframe tbody tr th:only-of-type {\n",
       "        vertical-align: middle;\n",
       "    }\n",
       "\n",
       "    .dataframe tbody tr th {\n",
       "        vertical-align: top;\n",
       "    }\n",
       "\n",
       "    .dataframe thead th {\n",
       "        text-align: right;\n",
       "    }\n",
       "</style>\n",
       "<table border=\"1\" class=\"dataframe\">\n",
       "  <thead>\n",
       "    <tr style=\"text-align: right;\">\n",
       "      <th></th>\n",
       "      <th>category_id</th>\n",
       "      <th>video_id</th>\n",
       "      <th>age</th>\n",
       "      <th>gender</th>\n",
       "      <th>profession</th>\n",
       "      <th>followers</th>\n",
       "      <th>views</th>\n",
       "    </tr>\n",
       "  </thead>\n",
       "  <tbody>\n",
       "    <tr>\n",
       "      <th>0</th>\n",
       "      <td>37</td>\n",
       "      <td>128</td>\n",
       "      <td>24</td>\n",
       "      <td>Male</td>\n",
       "      <td>Student</td>\n",
       "      <td>180</td>\n",
       "      <td>1000</td>\n",
       "    </tr>\n",
       "    <tr>\n",
       "      <th>1</th>\n",
       "      <td>32</td>\n",
       "      <td>132</td>\n",
       "      <td>14</td>\n",
       "      <td>Female</td>\n",
       "      <td>Student</td>\n",
       "      <td>330</td>\n",
       "      <td>714</td>\n",
       "    </tr>\n",
       "    <tr>\n",
       "      <th>2</th>\n",
       "      <td>12</td>\n",
       "      <td>24</td>\n",
       "      <td>19</td>\n",
       "      <td>Male</td>\n",
       "      <td>Student</td>\n",
       "      <td>180</td>\n",
       "      <td>138</td>\n",
       "    </tr>\n",
       "    <tr>\n",
       "      <th>3</th>\n",
       "      <td>23</td>\n",
       "      <td>112</td>\n",
       "      <td>19</td>\n",
       "      <td>Male</td>\n",
       "      <td>Student</td>\n",
       "      <td>220</td>\n",
       "      <td>613</td>\n",
       "    </tr>\n",
       "    <tr>\n",
       "      <th>4</th>\n",
       "      <td>23</td>\n",
       "      <td>112</td>\n",
       "      <td>27</td>\n",
       "      <td>Male</td>\n",
       "      <td>Working Professional</td>\n",
       "      <td>220</td>\n",
       "      <td>613</td>\n",
       "    </tr>\n",
       "  </tbody>\n",
       "</table>\n",
       "</div>"
      ],
      "text/plain": [
       "   category_id  video_id  age  gender            profession  followers  views\n",
       "0           37       128   24    Male               Student        180   1000\n",
       "1           32       132   14  Female               Student        330    714\n",
       "2           12        24   19    Male               Student        180    138\n",
       "3           23       112   19    Male               Student        220    613\n",
       "4           23       112   27    Male  Working Professional        220    613"
      ]
     },
     "execution_count": 2,
     "metadata": {},
     "output_type": "execute_result"
    }
   ],
   "source": [
    "# Reading the data from train_0OECtn8.csv file and spliting it into input and output \n",
    "data_set = pd.read_csv('train_0OECtn8.csv')\n",
    "# data_set.head()\n",
    "\n",
    "# selecting independent attributes from data, excluding rowid,userid and dependent variable \n",
    "input_x=data_set.iloc[:,2:-1]\n",
    "\n",
    "# selecting dependent variable as output \n",
    "output_y=data_set.iloc[:,-1]\n",
    "\n",
    "input_x.head(5)\n"
   ]
  },
  {
   "cell_type": "code",
   "execution_count": 3,
   "metadata": {},
   "outputs": [
    {
     "data": {
      "text/html": [
       "<div>\n",
       "<style scoped>\n",
       "    .dataframe tbody tr th:only-of-type {\n",
       "        vertical-align: middle;\n",
       "    }\n",
       "\n",
       "    .dataframe tbody tr th {\n",
       "        vertical-align: top;\n",
       "    }\n",
       "\n",
       "    .dataframe thead th {\n",
       "        text-align: right;\n",
       "    }\n",
       "</style>\n",
       "<table border=\"1\" class=\"dataframe\">\n",
       "  <thead>\n",
       "    <tr style=\"text-align: right;\">\n",
       "      <th></th>\n",
       "      <th>category_id</th>\n",
       "      <th>video_id</th>\n",
       "      <th>age</th>\n",
       "      <th>gender</th>\n",
       "      <th>profession</th>\n",
       "      <th>followers</th>\n",
       "      <th>views</th>\n",
       "    </tr>\n",
       "  </thead>\n",
       "  <tbody>\n",
       "    <tr>\n",
       "      <th>0</th>\n",
       "      <td>12</td>\n",
       "      <td>42</td>\n",
       "      <td>14</td>\n",
       "      <td>Male</td>\n",
       "      <td>Student</td>\n",
       "      <td>180</td>\n",
       "      <td>138</td>\n",
       "    </tr>\n",
       "    <tr>\n",
       "      <th>1</th>\n",
       "      <td>34</td>\n",
       "      <td>115</td>\n",
       "      <td>14</td>\n",
       "      <td>Male</td>\n",
       "      <td>Student</td>\n",
       "      <td>230</td>\n",
       "      <td>840</td>\n",
       "    </tr>\n",
       "    <tr>\n",
       "      <th>2</th>\n",
       "      <td>8</td>\n",
       "      <td>110</td>\n",
       "      <td>44</td>\n",
       "      <td>Female</td>\n",
       "      <td>Working Professional</td>\n",
       "      <td>280</td>\n",
       "      <td>628</td>\n",
       "    </tr>\n",
       "    <tr>\n",
       "      <th>3</th>\n",
       "      <td>16</td>\n",
       "      <td>137</td>\n",
       "      <td>18</td>\n",
       "      <td>Male</td>\n",
       "      <td>Student</td>\n",
       "      <td>270</td>\n",
       "      <td>462</td>\n",
       "    </tr>\n",
       "    <tr>\n",
       "      <th>4</th>\n",
       "      <td>34</td>\n",
       "      <td>96</td>\n",
       "      <td>47</td>\n",
       "      <td>Female</td>\n",
       "      <td>Other</td>\n",
       "      <td>230</td>\n",
       "      <td>840</td>\n",
       "    </tr>\n",
       "  </tbody>\n",
       "</table>\n",
       "</div>"
      ],
      "text/plain": [
       "   category_id  video_id  age  gender            profession  followers  views\n",
       "0           12        42   14    Male               Student        180    138\n",
       "1           34       115   14    Male               Student        230    840\n",
       "2            8       110   44  Female  Working Professional        280    628\n",
       "3           16       137   18    Male               Student        270    462\n",
       "4           34        96   47  Female                 Other        230    840"
      ]
     },
     "execution_count": 3,
     "metadata": {},
     "output_type": "execute_result"
    }
   ],
   "source": [
    "# Reading data from test file for later testing \n",
    "\n",
    "test_data_df = pd.read_csv('test_1zqHu22.csv')\n",
    "test_data_set = test_data_df.iloc[:,2:]\n",
    "# test_data_set.drop('video_id',axis=1,inplace=True)\n",
    "test_data_set.head()"
   ]
  },
  {
   "cell_type": "code",
   "execution_count": 4,
   "metadata": {},
   "outputs": [
    {
     "name": "stdout",
     "output_type": "stream",
     "text": [
      "[[   0.    1.    0.    1.    0.   37.  128.   24.  180. 1000.]\n",
      " [   1.    0.    0.    1.    0.   32.  132.   14.  330.  714.]\n",
      " [   0.    1.    0.    1.    0.   12.   24.   19.  180.  138.]\n",
      " [   0.    1.    0.    1.    0.   23.  112.   19.  220.  613.]\n",
      " [   0.    1.    0.    0.    1.   23.  112.   27.  220.  613.]]\n",
      "\n",
      "test data for solution: \n",
      " [[  0.   1.   0.   1.   0.  12.  42.  14. 180. 138.]\n",
      " [  0.   1.   0.   1.   0.  34. 115.  14. 230. 840.]\n",
      " [  1.   0.   0.   0.   1.   8. 110.  44. 280. 628.]\n",
      " [  0.   1.   0.   1.   0.  16. 137.  18. 270. 462.]\n",
      " [  1.   0.   1.   0.   0.  34.  96.  47. 230. 840.]]\n"
     ]
    }
   ],
   "source": [
    "# Encoding the category data of profession and gender\n",
    "from sklearn.compose import ColumnTransformer\n",
    "from sklearn.preprocessing import OneHotEncoder\n",
    "\n",
    "# Profession encoding\n",
    "column_transformer = ColumnTransformer(transformers=[('encoder', OneHotEncoder(), [4])], remainder='passthrough')\n",
    "input_x= np.array(column_transformer.fit_transform(input_x),dtype = np.str)\n",
    "test_data_set = np.array(column_transformer.fit_transform(test_data_set),dtype =  np.str)\n",
    "\n",
    "# Gender encoding\n",
    "column_transformer = ColumnTransformer(transformers=[('encoder', OneHotEncoder(), [6])], remainder='passthrough')\n",
    "input_x= np.array(column_transformer.fit_transform(input_x),dtype = np.str)\n",
    "test_data_set= np.array(column_transformer.fit_transform(test_data_set),dtype = np.str)\n",
    "\n",
    "# Converting string array into float\n",
    "input_x = input_x.astype(np.float)\n",
    "test_data_set = test_data_set.astype(np.float)\n",
    "\n",
    "print(input_x[:5])\n",
    "print('\\ntest data for solution: \\n',test_data_set[:5])"
   ]
  },
  {
   "cell_type": "code",
   "execution_count": 5,
   "metadata": {},
   "outputs": [],
   "source": [
    "# spliting the data into train and test \n",
    "input_train, input_test, output_train, output_test =  train_test_split(input_x,output_y,test_size=0.05)"
   ]
  },
  {
   "cell_type": "code",
   "execution_count": 6,
   "metadata": {},
   "outputs": [
    {
     "data": {
      "text/plain": [
       "LinearRegression()"
      ]
     },
     "execution_count": 6,
     "metadata": {},
     "output_type": "execute_result"
    }
   ],
   "source": [
    "# selecting the simple linear regression model \n",
    "model = LinearRegression()\n",
    "\n",
    "# fitting the train data to the model\n",
    "model.fit(input_train,output_train)"
   ]
  },
  {
   "cell_type": "code",
   "execution_count": 7,
   "metadata": {},
   "outputs": [
    {
     "name": "stdout",
     "output_type": "stream",
     "text": [
      "[[4.13 3.93]\n",
      " [3.29 3.7 ]\n",
      " [4.02 3.17]\n",
      " [3.3  3.63]\n",
      " [2.59 2.32]\n",
      " [3.68 3.4 ]\n",
      " [4.1  3.93]\n",
      " [4.15 4.25]\n",
      " [4.04 3.83]\n",
      " [3.91 3.9 ]]\n"
     ]
    }
   ],
   "source": [
    "# Predicting the Test set results\n",
    "predicted_output = model.predict(input_test)\n",
    "\n",
    "# to show max 2 digits after decimal\n",
    "np.set_printoptions(precision=2)\n",
    "\n",
    "predicted_output =  np.around(predicted_output, decimals = 2)\n",
    "# print(predicted_output[:10],'\\n')\n",
    "\n",
    "# changing 'actual output' series to a ndarray\n",
    "output_test=output_test.to_numpy(dtype ='float64')\n",
    "\n",
    "# comparision between  predicted output(left) and actual output(right)\n",
    "print(np.concatenate((predicted_output.reshape(len(predicted_output),1),output_test.reshape(len(output_test),1)),axis=1)[:10][:])\n"
   ]
  },
  {
   "cell_type": "code",
   "execution_count": 8,
   "metadata": {},
   "outputs": [
    {
     "data": {
      "image/png": "[encoded data removed]",
      "text/plain": [
       "<matplotlib.figure.Figure at 0x28f122d4320>"
      ]
     },
     "metadata": {
      "needs_background": "light"
     },
     "output_type": "display_data"
    }
   ],
   "source": [
    "# ploting the error difference for 1000 points (points on Y= 0 has no error)\n",
    "plt.plot(output_test[:1000] - predicted_output[:1000] ,marker='o',linestyle='')\n",
    "plt.ylim(-4,4)\n",
    "plt.ylabel('Difference')\n",
    "plt.title('Error plot')\n",
    "plt.show()"
   ]
  },
  {
   "cell_type": "code",
   "execution_count": 9,
   "metadata": {},
   "outputs": [
    {
     "data": {
      "text/plain": [
       "0.2833176754379977"
      ]
     },
     "execution_count": 9,
     "metadata": {},
     "output_type": "execute_result"
    }
   ],
   "source": [
    "# R2 scoring for the model with known test data\n",
    "from sklearn.metrics import r2_score\n",
    "r2_score(output_test, predicted_output)"
   ]
  },
  {
   "cell_type": "code",
   "execution_count": 10,
   "metadata": {},
   "outputs": [
    {
     "data": {
      "text/plain": [
       "RandomForestRegressor(min_samples_split=60, n_estimators=150, random_state=10)"
      ]
     },
     "execution_count": 10,
     "metadata": {},
     "output_type": "execute_result"
    }
   ],
   "source": [
    "# Using Random forest regression algorithm\n",
    "from sklearn.ensemble import RandomForestRegressor\n",
    "regressor = RandomForestRegressor(n_estimators=150,min_samples_split = 60,random_state = 10)\n",
    "regressor.fit(input_train, output_train) "
   ]
  },
  {
   "cell_type": "code",
   "execution_count": 11,
   "metadata": {},
   "outputs": [],
   "source": [
    "predicted_output_random =  regressor.predict(input_test)"
   ]
  },
  {
   "cell_type": "code",
   "execution_count": 12,
   "metadata": {},
   "outputs": [
    {
     "data": {
      "text/plain": [
       "0.3518994774248606"
      ]
     },
     "execution_count": 12,
     "metadata": {},
     "output_type": "execute_result"
    }
   ],
   "source": [
    "r2_score(output_test, predicted_output_random)"
   ]
  },
  {
   "cell_type": "code",
   "execution_count": 13,
   "metadata": {},
   "outputs": [
    {
     "data": {
      "image/png": "[encoded data removed]",
      "text/plain": [
       "<matplotlib.figure.Figure at 0x28f12885940>"
      ]
     },
     "metadata": {
      "needs_background": "light"
     },
     "output_type": "display_data"
    }
   ],
   "source": [
    "# ploting the error difference for 1000 points (points on Y= 0 has no error)\n",
    "plt.plot(output_test[:10000] - predicted_output_random[:10000] ,marker='o',linestyle='')\n",
    "plt.ylim(-4,4)\n",
    "plt.ylabel('Difference')\n",
    "plt.title('Error plot')\n",
    "plt.show()"
   ]
  },
  {
   "cell_type": "code",
   "execution_count": 14,
   "metadata": {},
   "outputs": [],
   "source": [
    "# As the Random Forest model gave better R2 score will use it for final solution\n",
    "# Predicting the test file using built model\n",
    "final_test_predicted = regressor.predict(test_data_set)\n",
    "final_test_predicted = np.around(final_test_predicted, decimals = 2)"
   ]
  },
  {
   "cell_type": "code",
   "execution_count": 15,
   "metadata": {},
   "outputs": [],
   "source": [
    "# Creation of solution_rondom_forest.csv using row_ids and predicted values for upload \n",
    "# # long method of creation of solution file\n",
    "# row_ids = test_data_df.iloc[:,0]\n",
    "# final_test_predicted =final_test_predicted.flatten()\n",
    "# final_test_predicted = pd.Series(final_test_predicted, name = 'engagement_score' )\n",
    "# solution = pd.concat([row_ids,final_test_predicted],axis =1)\n",
    "# solution.to_csv('solution_rondom_forest.csv',index = False)\n",
    "\n"
   ]
  },
  {
   "cell_type": "code",
   "execution_count": 16,
   "metadata": {},
   "outputs": [],
   "source": [
    "# Easy method of creating solution file\n",
    "test_data_df['engagement_score'] = final_test_predicted\n",
    "test_data_df[['row_id','engagement_score']].to_csv('solution_rondom_forest.csv',index=False)"
   ]
  },
  {
   "cell_type": "code",
   "execution_count": 19,
   "metadata": {},
   "outputs": [],
   "source": []
  },
  {
   "cell_type": "code",
   "execution_count": null,
   "metadata": {},
   "outputs": [],
   "source": []
  }
 ],
 "metadata": {
  "kernelspec": {
   "display_name": "Python 3",
   "language": "python",
   "name": "python3"
  },
  "language_info": {
   "codemirror_mode": {
    "name": "ipython",
    "version": 3
   },
   "file_extension": ".py",
   "mimetype": "text/x-python",
   "name": "python",
   "nbconvert_exporter": "python",
   "pygments_lexer": "ipython3",
   "version": "3.6.4"
  }
 },
 "nbformat": 4,
 "nbformat_minor": 2
}
